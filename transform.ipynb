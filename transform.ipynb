{
 "cells": [
  {
   "cell_type": "code",
   "execution_count": 9,
   "metadata": {},
   "outputs": [],
   "source": [
    "import torch\n",
    "from torchvision import datasets\n",
    "from torchvision.transforms import ToTensor, Lambda"
   ]
  },
  {
   "cell_type": "code",
   "execution_count": 10,
   "metadata": {},
   "outputs": [],
   "source": [
    "ds = datasets.FashionMNIST(\n",
    "    root=\"data\",\n",
    "    train=True,\n",
    "    download=True,\n",
    "    transform=ToTensor(),\n",
    "    target_transform=Lambda(lambda y: torch.zeros(10,\n",
    "dtype=torch.float).scatter_(0, torch.tensor(y), value = 1))\n",
    ")"
   ]
  },
  {
   "cell_type": "code",
   "execution_count": 11,
   "metadata": {},
   "outputs": [],
   "source": [
    "import os\n",
    "from torch import nn\n",
    "from torch.utils.data import DataLoader\n",
    "from torchvision import datasets, transforms"
   ]
  },
  {
   "cell_type": "code",
   "execution_count": 12,
   "metadata": {},
   "outputs": [
    {
     "name": "stdout",
     "output_type": "stream",
     "text": [
      "using cpu device\n"
     ]
    }
   ],
   "source": [
    "device = \"cuda\" if torch.cuda.is_available() else \"cpu\"\n",
    "print(f\"using {device} device\")"
   ]
  },
  {
   "cell_type": "code",
   "execution_count": 15,
   "metadata": {},
   "outputs": [],
   "source": [
    "# 클래스 정의하기\n",
    "class NeuralNetwork(nn.Module):\n",
    "    def __init__(self):\n",
    "        super(NeuralNetwork, self).__init__()\n",
    "        self.flatten = nn.Flatten()\n",
    "        self.linear_relu_stack = nn.Sequential(\n",
    "            nn.Linear(28*28, 512),\n",
    "            nn.ReLU(),\n",
    "            nn.Linear(512, 512),\n",
    "            nn.ReLU(),\n",
    "            nn.Linear(512, 10),\n",
    "        )\n",
    "        \n",
    "    def forward(self, x):\n",
    "        x = self.flatten(x)\n",
    "        logits = self.linear_relu_stack(x)\n",
    "        return logits"
   ]
  },
  {
   "cell_type": "code",
   "execution_count": 16,
   "metadata": {},
   "outputs": [
    {
     "name": "stdout",
     "output_type": "stream",
     "text": [
      "NeuralNetwork(\n",
      "  (flatten): Flatten(start_dim=1, end_dim=-1)\n",
      "  (linear_relu_stack): Sequential(\n",
      "    (0): Linear(in_features=784, out_features=512, bias=True)\n",
      "    (1): ReLU()\n",
      "    (2): Linear(in_features=512, out_features=512, bias=True)\n",
      "    (3): ReLU()\n",
      "    (4): Linear(in_features=512, out_features=10, bias=True)\n",
      "  )\n",
      ")\n"
     ]
    }
   ],
   "source": [
    "model = NeuralNetwork().to(device)\n",
    "print(model)"
   ]
  },
  {
   "cell_type": "code",
   "execution_count": 18,
   "metadata": {},
   "outputs": [
    {
     "name": "stdout",
     "output_type": "stream",
     "text": [
      "Predicted class:tensor([0])\n"
     ]
    }
   ],
   "source": [
    "X = torch.rand(1, 28, 28, device=device)\n",
    "logits = model(X)\n",
    "pred_probab = nn.Softmax(dim=1)(logits)\n",
    "y_pred = pred_probab.argmax(1)\n",
    "print(f\"Predicted class:{y_pred}\")"
   ]
  },
  {
   "cell_type": "code",
   "execution_count": 19,
   "metadata": {},
   "outputs": [
    {
     "name": "stdout",
     "output_type": "stream",
     "text": [
      "torch.Size([3, 28, 28])\n"
     ]
    }
   ],
   "source": [
    "input_image = torch.rand(3, 28, 28)\n",
    "print(input_image.size())"
   ]
  },
  {
   "cell_type": "code",
   "execution_count": 20,
   "metadata": {},
   "outputs": [
    {
     "name": "stdout",
     "output_type": "stream",
     "text": [
      "torch.Size([3, 784])\n"
     ]
    }
   ],
   "source": [
    "flatten = nn.Flatten()\n",
    "flat_image = flatten(input_image)\n",
    "print(flat_image.size())"
   ]
  },
  {
   "cell_type": "code",
   "execution_count": 21,
   "metadata": {},
   "outputs": [
    {
     "name": "stdout",
     "output_type": "stream",
     "text": [
      "torch.Size([3, 20])\n"
     ]
    }
   ],
   "source": [
    "layer1 = nn.Linear(in_features=28*28, out_features=20)\n",
    "hidden1 = layer1(flat_image)\n",
    "print(hidden1.size())"
   ]
  },
  {
   "cell_type": "code",
   "execution_count": 22,
   "metadata": {},
   "outputs": [
    {
     "name": "stdout",
     "output_type": "stream",
     "text": [
      "Before ReLU: tensor([[-0.2534, -0.1154,  0.0908,  0.0797,  0.7701, -0.0425,  0.1853, -0.2205,\n",
      "         -0.3314, -0.0038, -0.3265,  0.2070, -0.6051,  0.3161, -0.4740,  0.0418,\n",
      "          0.2465, -0.1478,  0.3036, -0.0033],\n",
      "        [-0.3017, -0.1723, -0.0319,  0.3145,  0.5176, -0.2237,  0.6699, -0.4904,\n",
      "         -0.1518,  0.0499, -0.4714,  0.0597, -0.6619,  0.1165, -0.1611,  0.0871,\n",
      "          0.3158,  0.0228,  0.3403, -0.0780],\n",
      "        [-0.5019, -0.2297, -0.1343,  0.3404,  0.5223, -0.0013,  0.2907, -0.3250,\n",
      "         -0.1096,  0.1718, -0.3747,  0.1127, -0.3372,  0.0771, -0.1112,  0.1683,\n",
      "          0.6214, -0.0253,  0.0951, -0.0523]], grad_fn=<AddmmBackward0>) \n",
      "\n",
      "\n",
      "After ReLU: tensor([[0.0000, 0.0000, 0.0908, 0.0797, 0.7701, 0.0000, 0.1853, 0.0000, 0.0000,\n",
      "         0.0000, 0.0000, 0.2070, 0.0000, 0.3161, 0.0000, 0.0418, 0.2465, 0.0000,\n",
      "         0.3036, 0.0000],\n",
      "        [0.0000, 0.0000, 0.0000, 0.3145, 0.5176, 0.0000, 0.6699, 0.0000, 0.0000,\n",
      "         0.0499, 0.0000, 0.0597, 0.0000, 0.1165, 0.0000, 0.0871, 0.3158, 0.0228,\n",
      "         0.3403, 0.0000],\n",
      "        [0.0000, 0.0000, 0.0000, 0.3404, 0.5223, 0.0000, 0.2907, 0.0000, 0.0000,\n",
      "         0.1718, 0.0000, 0.1127, 0.0000, 0.0771, 0.0000, 0.1683, 0.6214, 0.0000,\n",
      "         0.0951, 0.0000]], grad_fn=<ReluBackward0>)\n"
     ]
    }
   ],
   "source": [
    "print(f\"Before ReLU: {hidden1} \\n\\n\")\n",
    "hidden1 = nn.ReLU()(hidden1)\n",
    "print(f\"After ReLU: {hidden1}\")"
   ]
  },
  {
   "cell_type": "code",
   "execution_count": 24,
   "metadata": {},
   "outputs": [],
   "source": [
    "seq_moduels = nn.Sequential(\n",
    "    flatten,\n",
    "    layer1,\n",
    "    nn.ReLU(),\n",
    "    nn.Linear(20, 10)\n",
    ")\n",
    "input_image = torch.rand(3,28,28)\n",
    "logits = seq_moduels(input_image)\n"
   ]
  },
  {
   "cell_type": "code",
   "execution_count": 25,
   "metadata": {},
   "outputs": [],
   "source": [
    "softmax = nn.Softmax(dim=1)\n",
    "pred_probab = softmax(logits)"
   ]
  },
  {
   "cell_type": "code",
   "execution_count": 27,
   "metadata": {},
   "outputs": [
    {
     "name": "stdout",
     "output_type": "stream",
     "text": [
      "Model structure: NeuralNetwork(\n",
      "  (flatten): Flatten(start_dim=1, end_dim=-1)\n",
      "  (linear_relu_stack): Sequential(\n",
      "    (0): Linear(in_features=784, out_features=512, bias=True)\n",
      "    (1): ReLU()\n",
      "    (2): Linear(in_features=512, out_features=512, bias=True)\n",
      "    (3): ReLU()\n",
      "    (4): Linear(in_features=512, out_features=10, bias=True)\n",
      "  )\n",
      ") \n",
      "\n",
      "\n"
     ]
    }
   ],
   "source": [
    "print(f\"Model structure: {model} \\n\\n\")"
   ]
  },
  {
   "cell_type": "code",
   "execution_count": 29,
   "metadata": {},
   "outputs": [
    {
     "name": "stdout",
     "output_type": "stream",
     "text": [
      "Layer: linear_relu_stack.0.weight | size : torch.Size([512, 784]) | value: tensor([[-3.1580e-02,  1.1885e-02, -1.0302e-02,  ..., -1.2215e-02,\n",
      "         -1.8615e-02,  1.3588e-02],\n",
      "        [-5.7306e-03, -3.3118e-05,  2.7634e-02,  ...,  2.0554e-02,\n",
      "         -2.7580e-03,  3.1209e-02]], grad_fn=<SliceBackward0>) \n",
      "\n",
      "\n",
      "Layer: linear_relu_stack.0.bias | size : torch.Size([512]) | value: tensor([-0.0243,  0.0026], grad_fn=<SliceBackward0>) \n",
      "\n",
      "\n",
      "Layer: linear_relu_stack.2.weight | size : torch.Size([512, 512]) | value: tensor([[-0.0143, -0.0269,  0.0282,  ...,  0.0243, -0.0354, -0.0240],\n",
      "        [-0.0319, -0.0192,  0.0266,  ...,  0.0181, -0.0416, -0.0014]],\n",
      "       grad_fn=<SliceBackward0>) \n",
      "\n",
      "\n",
      "Layer: linear_relu_stack.2.bias | size : torch.Size([512]) | value: tensor([ 0.0033, -0.0074], grad_fn=<SliceBackward0>) \n",
      "\n",
      "\n",
      "Layer: linear_relu_stack.4.weight | size : torch.Size([10, 512]) | value: tensor([[-0.0355,  0.0007,  0.0166,  ...,  0.0106,  0.0380, -0.0116],\n",
      "        [-0.0216, -0.0163,  0.0055,  ..., -0.0327, -0.0243, -0.0136]],\n",
      "       grad_fn=<SliceBackward0>) \n",
      "\n",
      "\n",
      "Layer: linear_relu_stack.4.bias | size : torch.Size([10]) | value: tensor([0.0219, 0.0188], grad_fn=<SliceBackward0>) \n",
      "\n",
      "\n"
     ]
    }
   ],
   "source": [
    "for name, param in model.named_parameters():\n",
    "    print(f\"Layer: {name} | size : {param.size()} | value: {param[:2]} \\n\\n\")"
   ]
  },
  {
   "cell_type": "code",
   "execution_count": null,
   "metadata": {},
   "outputs": [],
   "source": []
  }
 ],
 "metadata": {
  "kernelspec": {
   "display_name": "Python 3.10.1 64-bit",
   "language": "python",
   "name": "python3"
  },
  "language_info": {
   "codemirror_mode": {
    "name": "ipython",
    "version": 3
   },
   "file_extension": ".py",
   "mimetype": "text/x-python",
   "name": "python",
   "nbconvert_exporter": "python",
   "pygments_lexer": "ipython3",
   "version": "3.10.1"
  },
  "orig_nbformat": 4,
  "vscode": {
   "interpreter": {
    "hash": "98f553117ee64db03f8c8241d5c9ea0153b567c9f87fa51df73b3f6e86eba8f5"
   }
  }
 },
 "nbformat": 4,
 "nbformat_minor": 2
}
